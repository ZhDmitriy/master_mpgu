{
  "nbformat": 4,
  "nbformat_minor": 0,
  "metadata": {
    "colab": {
      "provenance": []
    },
    "kernelspec": {
      "name": "python3",
      "display_name": "Python 3"
    },
    "language_info": {
      "name": "python"
    }
  },
  "cells": [
    {
      "cell_type": "markdown",
      "source": [
        "# Демонстрационный пример"
      ],
      "metadata": {
        "id": "fctA-H0MnoC8"
      }
    },
    {
      "cell_type": "code",
      "execution_count": null,
      "metadata": {
        "id": "1VucyQ7hj_6Q"
      },
      "outputs": [],
      "source": [
        "import numpy as np\n",
        "from sklearn.tree import DecisionTreeClassifier, export_text\n",
        "from sklearn.preprocessing import LabelEncoder"
      ]
    },
    {
      "cell_type": "code",
      "source": [
        "def entropy(y):\n",
        "  _, counts = np.unique(y, return_counts=True)\n",
        "  probabilities = counts / len(y)\n",
        "  return -np.sum(probabilities * np.log2(probabilities + 1e-10))\n",
        "\n",
        "def information_gain(X, y, feature):\n",
        "  total_entropy = entropy(y)\n",
        "  values, counts = np.unique(X[:, feature], return_counts=True)\n",
        "  weighted_entropy = sum(counts[i] / len(y) * entropy(y[X[:, feature] == values[i]]) for i in range(len(values)))\n",
        "  return total_entropy - weighted_entropy"
      ],
      "metadata": {
        "id": "yhbVg8qcmeGA"
      },
      "execution_count": null,
      "outputs": []
    },
    {
      "cell_type": "code",
      "source": [
        "X = np.array([\n",
        "  ['Высокая', 'Да'],\n",
        "  ['Высокая', 'Да'],\n",
        "  ['Высокая', 'Да'],\n",
        "  ['Высокая', 'Да'],\n",
        "  ['Высокая', 'Нет'],\n",
        "  ['Высокая', 'Да'],\n",
        "  ['Высокая', 'Нет'],\n",
        "  ['Низкая', 'Да'],\n",
        "  ['Низкая', 'Нет'],\n",
        "  ['Низкая', 'Нет'],\n",
        "  ['Низкая', 'Да'],\n",
        "  ['Низкая', 'Да']\n",
        "])\n",
        "\n",
        "y = np.array(['Сдал', 'Сдал', 'Сдал', 'Сдал', 'Сдал', 'Сдал', 'Не сдал',\n",
        "              'Сдал', 'Не сдал', 'Не сдал', 'Не сдал', 'Не сдал'])\n",
        "\n",
        "le_X = LabelEncoder()\n",
        "le_y = LabelEncoder()\n",
        "X_encoded = np.apply_along_axis(le_X.fit_transform, axis=0, arr=X)\n",
        "y_encoded = le_y.fit_transform(y)\n",
        "feature_names = ['Посещаемость', 'Домашние задания']\n",
        "\n",
        "info_gains = []\n",
        "for i, name in enumerate(feature_names):\n",
        "  ig = information_gain(X_encoded, y_encoded, i)\n",
        "  info_gains.append(ig)\n",
        "  print(f\"Информационный выигрыш для признака {name}: {ig:.4f}\")\n",
        "\n",
        "best_feature = feature_names[np.argmax(info_gains)]\n",
        "print(f\"\\nЛучший признак для первого разделения: '{best_feature}'\")"
      ],
      "metadata": {
        "colab": {
          "base_uri": "https://localhost:8080/"
        },
        "id": "vx1yh89Dm06r",
        "outputId": "15c1e9db-9c11-4b1c-df00-dad57772b2d7"
      },
      "execution_count": null,
      "outputs": [
        {
          "output_type": "stream",
          "name": "stdout",
          "text": [
            "Информационный выигрыш для признака Посещаемость: 0.3339\n",
            "Информационный выигрыш для признака Домашние задания: 0.1686\n",
            "\n",
            "Лучший признак для первого разделения: 'Посещаемость'\n"
          ]
        }
      ]
    },
    {
      "cell_type": "code",
      "source": [
        "clf = DecisionTreeClassifier(random_state=42, max_depth=2)\n",
        "clf.fit(X_encoded, y_encoded)\n",
        "tree_rules = export_text(clf, feature_names=feature_names)\n",
        "print(\"\\nПравила дерева решений:\")\n",
        "print(tree_rules)"
      ],
      "metadata": {
        "colab": {
          "base_uri": "https://localhost:8080/"
        },
        "id": "l4sLhqfynaiy",
        "outputId": "2973c07c-4d0c-4d8c-82bc-81aea79d8148"
      },
      "execution_count": null,
      "outputs": [
        {
          "output_type": "stream",
          "name": "stdout",
          "text": [
            "\n",
            "Правила дерева решений:\n",
            "|--- Посещаемость <= 0.50\n",
            "|   |--- Домашние задания <= 0.50\n",
            "|   |   |--- class: 1\n",
            "|   |--- Домашние задания >  0.50\n",
            "|   |   |--- class: 0\n",
            "|--- Посещаемость >  0.50\n",
            "|   |--- Домашние задания <= 0.50\n",
            "|   |   |--- class: 0\n",
            "|   |--- Домашние задания >  0.50\n",
            "|   |   |--- class: 0\n",
            "\n"
          ]
        }
      ]
    },
    {
      "cell_type": "markdown",
      "source": [
        "# Задача №1. Самостоятельный пример."
      ],
      "metadata": {
        "id": "2vilbt8pqTc5"
      }
    },
    {
      "cell_type": "code",
      "source": [
        "X = np.array([\n",
        "  ['Много', 'Да'],\n",
        "  ['Много', 'Да'],\n",
        "  ['Много', 'Нет'],\n",
        "  ['Много', 'Да'],\n",
        "  ['Много', 'Нет'],\n",
        "  ['Много', 'Да'],\n",
        "  ['Мало', 'Нет'],\n",
        "  ['Мало', 'Нет'],\n",
        "  ['Мало', 'Да'],\n",
        "  ['Мало', 'Нет'],\n",
        "  ['Мало', 'Да'],\n",
        "  ['Мало', 'Да']\n",
        "])\n",
        "\n",
        "y = np.array(['Успешен', 'Успешен', 'Не успешен', 'Успешен', 'Не успешен',\n",
        "              'Успешен', 'Не успешен', 'Не успешен', 'Успешен', 'Не успешен',\n",
        "              'Успешен', 'Успешен'])\n",
        "\n",
        "le_X = LabelEncoder()\n",
        "le_y = LabelEncoder()\n",
        "X_encoded = np.apply_along_axis(le_X.fit_transform, axis=0, arr=X)\n",
        "y_encoded = le_y.fit_transform(y)\n",
        "feature_names = ['Участие в дискуссиях', 'Практические задания']\n",
        "\n",
        "info_gains = []\n",
        "for i, name in enumerate(feature_names):\n",
        "  ig = information_gain(X_encoded, y_encoded, i)\n",
        "  info_gains.append(ig)\n",
        "  print(f\"Информационный выигрыш для признака {name}: {ig:.4f}\")\n",
        "\n",
        "best_feature = feature_names[np.argmax(info_gains)]\n",
        "print(f\"\\nЛучший признак для первого разделения: {best_feature}\")"
      ],
      "metadata": {
        "colab": {
          "base_uri": "https://localhost:8080/"
        },
        "id": "UjHK95gLqTGa",
        "outputId": "d61ee8fe-121b-4a0d-bf33-f0f4d158fae1"
      },
      "execution_count": null,
      "outputs": [
        {
          "output_type": "stream",
          "name": "stdout",
          "text": [
            "Информационный выигрыш для признака Участие в дискуссиях: 0.0207\n",
            "Информационный выигрыш для признака Практические задания: 0.9799\n",
            "\n",
            "Лучший признак для первого разделения: Практические задания\n"
          ]
        }
      ]
    },
    {
      "cell_type": "code",
      "source": [
        "clf = DecisionTreeClassifier(random_state=42, max_depth=2)\n",
        "clf.fit(X_encoded, y_encoded)\n",
        "tree_rules = export_text(clf, feature_names=feature_names)\n",
        "print(\"\\nПравила дерева решений:\")\n",
        "print(tree_rules)"
      ],
      "metadata": {
        "colab": {
          "base_uri": "https://localhost:8080/"
        },
        "id": "sBwi2uK-r2Un",
        "outputId": "d96fb1d0-b50b-46fe-97e7-c5a4799e4987"
      },
      "execution_count": null,
      "outputs": [
        {
          "output_type": "stream",
          "name": "stdout",
          "text": [
            "\n",
            "Правила дерева решений:\n",
            "|--- Практические задания <= 0.50\n",
            "|   |--- class: 1\n",
            "|--- Практические задания >  0.50\n",
            "|   |--- class: 0\n",
            "\n"
          ]
        }
      ]
    },
    {
      "cell_type": "markdown",
      "source": [
        "# Задача №2. Самостоятельный пример."
      ],
      "metadata": {
        "id": "dVJmBUGCslAH"
      }
    },
    {
      "cell_type": "code",
      "source": [
        "X = np.array([\n",
        "  ['Высокая', 'Да', 'Сложная'],\n",
        "  ['Высокая', 'Да', 'Простая'],\n",
        "  ['Высокая', 'Нет', 'Сложная'],\n",
        "  ['Высокая', 'Да', 'Сложная'],\n",
        "  ['Высокая', 'Нет', 'Простая'],\n",
        "  ['Низкая', 'Да', 'Простая'],\n",
        "  ['Низкая', 'Нет', 'Сложная'],\n",
        "  ['Низкая', 'Нет', 'Простая'],\n",
        "  ['Низкая', 'Да', 'Простая'],\n",
        "  ['Средняя', 'Да', 'Сложная'],\n",
        "  ['Средняя', 'Нет', 'Простая'],\n",
        "  ['Средняя', 'Да', 'Сложная']\n",
        "])\n",
        "\n",
        "y = np.array(['Успешен', 'Успешен', 'Не успешен', 'Успешен', 'Не успешен',\n",
        "              'Успешен', 'Не успешен', 'Не успешен', 'Успешен', 'Успешен',\n",
        "              'Не успешен', 'Успешен'])\n",
        "\n",
        "le_X = LabelEncoder()\n",
        "le_y = LabelEncoder()\n",
        "X_encoded = np.apply_along_axis(le_X.fit_transform, axis=0, arr=X)\n",
        "y_encoded = le_y.fit_transform(y)\n",
        "feature_names = ['Посещаемость', 'Домашние задания', 'Сложность курса']\n",
        "\n",
        "info_gains = []\n",
        "for i, name in enumerate(feature_names):\n",
        "  ig = information_gain(X_encoded, y_encoded, i)\n",
        "  info_gains.append(ig)\n",
        "  print(f\"Информационный выигрыш для признака {name}: {ig:.4f}\")\n",
        "\n",
        "best_feature = feature_names[np.argmax(info_gains)]\n",
        "print(f\"\\nЛучший признак для первого разделения: {best_feature}\")"
      ],
      "metadata": {
        "colab": {
          "base_uri": "https://localhost:8080/"
        },
        "id": "lpoFpnV9ss8O",
        "outputId": "587c7478-e006-483d-97bc-7bfd0878b683"
      },
      "execution_count": null,
      "outputs": [
        {
          "output_type": "stream",
          "name": "stdout",
          "text": [
            "Информационный выигрыш для признака Посещаемость: 0.0124\n",
            "Информационный выигрыш для признака Домашние задания: 0.9799\n",
            "Информационный выигрыш для признака Сложность курса: 0.0207\n",
            "\n",
            "Лучший признак для первого разделения: Домашние задания\n"
          ]
        }
      ]
    },
    {
      "cell_type": "code",
      "source": [
        "clf = DecisionTreeClassifier(random_state=42, max_depth=3)\n",
        "clf.fit(X_encoded, y_encoded)\n",
        "tree_rules = export_text(clf, feature_names=feature_names)\n",
        "print(\"\\nПравила дерева решений:\")\n",
        "print(tree_rules)"
      ],
      "metadata": {
        "colab": {
          "base_uri": "https://localhost:8080/"
        },
        "id": "NMPvhBLDvBgS",
        "outputId": "6954e8f7-d575-49ad-f57d-c89601b7f1c4"
      },
      "execution_count": null,
      "outputs": [
        {
          "output_type": "stream",
          "name": "stdout",
          "text": [
            "\n",
            "Правила дерева решений:\n",
            "|--- Домашние задания <= 0.50\n",
            "|   |--- class: 1\n",
            "|--- Домашние задания >  0.50\n",
            "|   |--- class: 0\n",
            "\n"
          ]
        }
      ]
    }
  ]
}